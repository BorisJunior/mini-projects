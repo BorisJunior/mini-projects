{
 "cells": [
  {
   "cell_type": "markdown",
   "id": "bfa59f53",
   "metadata": {},
   "source": [
    "## Setup and Data Loading\n",
    "Here, we load the necessary libraries and the dataset."
   ]
  },
  {
   "cell_type": "code",
   "execution_count": null,
   "id": "122abe12",
   "metadata": {},
   "outputs": [],
   "source": [
    "\n",
    "import pandas as pd\n",
    "import numpy as np\n",
    "import matplotlib.pyplot as plt\n",
    "import seaborn as sns\n",
    "from sklearn.model_selection import train_test_split\n",
    "from sklearn.linear_model import LinearRegression, make_pipeline\n",
    "from sklearn.preprocessing import PolynomialFeatures\n",
    "from sklearn.ensemble import RandomForestRegressor\n",
    "from sklearn.svm import SVR\n",
    "from sklearn.metrics import mean_squared_error\n",
    "\n",
    "# Load the data\n",
    "df = pd.read_csv(\"/mnt/data/cause_of_deaths.csv\")\n"
   ]
  },
  {
   "cell_type": "markdown",
   "id": "7afefc9c",
   "metadata": {},
   "source": [
    "## Visualization\n",
    "We visualize the trend of deaths due to the top 5 causes in the USA from 1990 to 2019."
   ]
  },
  {
   "cell_type": "code",
   "execution_count": null,
   "id": "c61cf7e8",
   "metadata": {},
   "outputs": [],
   "source": [
    "\n",
    "# Visualization: Trend of Deaths Due to Top 5 Causes in USA (1990-2019)\n",
    "us_top_5_causes = df[df['Country/Territory'] == 'United States'].drop(columns=['Country/Territory', 'Code', 'Year']).sum().nlargest(5).index.tolist()\n",
    "us_top_5_data = df[df['Country/Territory'] == 'United States'][['Year'] + us_top_5_causes]\n",
    "us_top_5_data_melted = us_top_5_data.melt(id_vars='Year', var_name='Cause', value_name='Number of Deaths')\n",
    "\n",
    "plt.figure(figsize=(15, 10))\n",
    "sns.lineplot(data=us_top_5_data_melted, x='Year', y='Number of Deaths', hue='Cause', marker='o', palette='tab10')\n",
    "plt.title('Trend of Deaths Due to Top 5 Causes in USA (1990-2019)')\n",
    "plt.ylabel('Number of Deaths')\n",
    "plt.xlabel('Year')\n",
    "plt.grid(True, which='both', linestyle='--', linewidth=0.5)\n",
    "plt.legend(title='Cause of Death')\n",
    "plt.show()\n"
   ]
  },
  {
   "cell_type": "markdown",
   "id": "33fdba16",
   "metadata": {},
   "source": [
    "## Machine Learning\n",
    "We prepare the data to predict deaths due to Cardiovascular Diseases for the USA."
   ]
  },
  {
   "cell_type": "code",
   "execution_count": null,
   "id": "4f1e0736",
   "metadata": {},
   "outputs": [],
   "source": [
    "\n",
    "# Machine Learning: Predicting deaths due to Cardiovascular Diseases for USA\n",
    "\n",
    "# Data preparation\n",
    "us_data = df[df['Country/Territory'] == \"United States\"][['Year', 'Cardiovascular Diseases']]\n",
    "X = us_data[['Year']]\n",
    "y = us_data['Cardiovascular Diseases']\n",
    "X_train, X_test, y_train, y_test = train_test_split(X, y, test_size=0.2, random_state=42)\n"
   ]
  },
  {
   "cell_type": "markdown",
   "id": "9fa66e88",
   "metadata": {},
   "source": [
    "### Linear Regression\n",
    "Using simple linear regression, we fit the model and predict on the test set. The RMSE for the linear regression model is displayed below."
   ]
  },
  {
   "cell_type": "code",
   "execution_count": null,
   "id": "9bb377d3",
   "metadata": {},
   "outputs": [],
   "source": [
    "\n",
    "# Linear Regression\n",
    "lr = LinearRegression()\n",
    "lr.fit(X_train, y_train)\n",
    "y_pred_lr = lr.predict(X_test)\n",
    "rmse_lr = mean_squared_error(y_test, y_pred_lr, squared=False)\n",
    "rmse_lr\n"
   ]
  },
  {
   "cell_type": "markdown",
   "id": "a8a64efb",
   "metadata": {},
   "source": [
    "### Polynomial Regression\n",
    "Using polynomial regression of degree 2, we fit the model and predict on the test set. The RMSE for the polynomial regression model is displayed below."
   ]
  },
  {
   "cell_type": "code",
   "execution_count": null,
   "id": "602fb072",
   "metadata": {},
   "outputs": [],
   "source": [
    "\n",
    "# Polynomial Regression\n",
    "degree = 2\n",
    "polyreg = make_pipeline(PolynomialFeatures(degree),LinearRegression())\n",
    "polyreg.fit(X_train, y_train)\n",
    "y_pred_poly = polyreg.predict(X_test)\n",
    "rmse_poly = mean_squared_error(y_test, y_pred_poly, squared=False)\n",
    "rmse_poly\n"
   ]
  },
  {
   "cell_type": "markdown",
   "id": "ca0c9ec8",
   "metadata": {},
   "source": [
    "### Random Forest Regression\n",
    "Using random forest regression, we fit the model and predict on the test set. The RMSE for the random forest model is displayed below."
   ]
  },
  {
   "cell_type": "code",
   "execution_count": null,
   "id": "d90f1420",
   "metadata": {},
   "outputs": [],
   "source": [
    "\n",
    "# Random Forest\n",
    "rf = RandomForestRegressor(n_estimators=100, random_state=42)\n",
    "rf.fit(X_train, y_train)\n",
    "y_pred_rf = rf.predict(X_test)\n",
    "rmse_rf = mean_squared_error(y_test, y_pred_rf, squared=False)\n",
    "rmse_rf\n"
   ]
  },
  {
   "cell_type": "markdown",
   "id": "5baba159",
   "metadata": {},
   "source": [
    "### Support Vector Regression\n",
    "Using support vector regression with RBF kernel, we fit the model and predict on the test set. The RMSE for the SVR model is displayed below."
   ]
  },
  {
   "cell_type": "code",
   "execution_count": null,
   "id": "dfab6238",
   "metadata": {},
   "outputs": [],
   "source": [
    "\n",
    "# Support Vector Regression\n",
    "svr = SVR(kernel='rbf', C=1e3, gamma=0.1)\n",
    "svr.fit(X_train, y_train)\n",
    "y_pred_svr = svr.predict(X_test)\n",
    "rmse_svr = mean_squared_error(y_test, y_pred_svr, squared=False)\n",
    "rmse_svr\n"
   ]
  }
 ],
 "metadata": {
  "kernelspec": {
   "display_name": "Python 3 (ipykernel)",
   "language": "python",
   "name": "python3"
  },
  "language_info": {
   "codemirror_mode": {
    "name": "ipython",
    "version": 3
   },
   "file_extension": ".py",
   "mimetype": "text/x-python",
   "name": "python",
   "nbconvert_exporter": "python",
   "pygments_lexer": "ipython3",
   "version": "3.9.13"
  }
 },
 "nbformat": 4,
 "nbformat_minor": 5
}
