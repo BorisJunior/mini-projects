{
 "cells": [
  {
   "cell_type": "code",
   "execution_count": 6,
   "metadata": {
    "colab": {
     "base_uri": "https://localhost:8080/"
    },
    "id": "8rxNkwmoepO8",
    "outputId": "ea3b5495-f72d-4cd6-84ad-7bda72c97181"
   },
   "outputs": [
    {
     "name": "stdout",
     "output_type": "stream",
     "text": [
      "5 3 4 6 7 8 9 1 2 \n",
      "6 7 2 1 9 5 3 4 8 \n",
      "1 9 8 3 4 2 5 6 7 \n",
      "8 5 9 7 6 1 4 2 3 \n",
      "4 2 6 8 5 3 7 9 1 \n",
      "7 1 3 9 2 4 8 5 6 \n",
      "9 6 1 5 3 7 2 8 4 \n",
      "2 8 7 4 1 9 6 3 5 \n",
      "3 4 5 2 8 6 1 7 9 \n"
     ]
    }
   ],
   "source": [
    "# Fonction pour trouver une case vide dans la grille\n",
    "def trouver_case_vide(grille):\n",
    "    for i in range(9):\n",
    "        for j in range(9):\n",
    "            if grille[i][j] == 0:\n",
    "                return i, j\n",
    "    return None, None\n",
    "\n",
    "# Fonction pour vérifier si un chiffre peut être placé dans une case donnée\n",
    "def chiffre_valide(grille, chiffre, ligne, colonne):\n",
    "    # Vérifier la ligne\n",
    "    for i in range(9):\n",
    "        if grille[ligne][i] == chiffre:\n",
    "            return False\n",
    "    \n",
    "    # Vérifier la colonne\n",
    "    for i in range(9):\n",
    "        if grille[i][colonne] == chiffre:\n",
    "            return False\n",
    "    \n",
    "    # Vérifier la région\n",
    "    region_ligne = (ligne // 3) * 3\n",
    "    region_colonne = (colonne // 3) * 3\n",
    "    \n",
    "    for i in range(region_ligne, region_ligne + 3):\n",
    "        for j in range(region_colonne, region_colonne + 3):\n",
    "            if grille[i][j] == chiffre:\n",
    "                return False\n",
    "    \n",
    "    return True\n",
    "\n",
    "# Fonction principale de résolution du Sudoku\n",
    "def resoudre_sudoku(grille):\n",
    "    ligne, colonne = trouver_case_vide(grille)\n",
    "    \n",
    "    # Cas de base : si toutes les cases sont remplies, la grille est résolue\n",
    "    if ligne is None:\n",
    "        return True\n",
    "    \n",
    "    # Essayer les chiffres de 1 à 9 dans la case vide\n",
    "    for chiffre in range(1, 10):\n",
    "        if chiffre_valide(grille, chiffre, ligne, colonne):\n",
    "            grille[ligne][colonne] = chiffre\n",
    "            \n",
    "            # Résoudre récursivement la grille avec la nouvelle valeur placée\n",
    "            if resoudre_sudoku(grille):\n",
    "                return True\n",
    "            \n",
    "            # Si la grille ne peut pas être résolue avec la valeur actuelle, revenir en arrière\n",
    "            grille[ligne][colonne] = 0\n",
    "    \n",
    "    return False\n",
    "\n",
    "# Exemple d'utilisation\n",
    "grille = [\n",
    "    [5, 3, 0, 0, 7, 0, 0, 0, 0],\n",
    "    [6, 0, 0, 1, 9, 5, 0, 0, 0],\n",
    "    [0, 9, 8, 0, 0, 0, 0, 6, 0],\n",
    "    [8, 0, 0, 0, 6, 0, 0, 0, 3],\n",
    "    [4, 0, 0, 8, 0, 3, 0, 0, 1],\n",
    "    [7, 0, 0, 0, 2, 0, 0, 0, 6],\n",
    "    [0, 6, 0, 0, 0, 0, 2, 8, 0],\n",
    "    [0, 0, 0, 4, 1, 9, 0, 0, 5],\n",
    "    [0, 0, 0, 0, 8, 0, 0, 7, 9]\n",
    "]\n",
    "\n",
    "resoudre_sudoku(grille)\n",
    "\n",
    "# Afficher la grille résolue\n",
    "for i in range(9):\n",
    "    for j in range(9):\n",
    "        print(grille[i][j], end=' ')\n",
    "    print()\n"
   ]
  },
  {
   "cell_type": "code",
   "execution_count": null,
   "metadata": {
    "id": "0ylH2ELzf32X"
   },
   "outputs": [],
   "source": []
  },
  {
   "cell_type": "code",
   "execution_count": null,
   "metadata": {
    "id": "KyKeHz95cB2w"
   },
   "outputs": [],
   "source": []
  }
 ],
 "metadata": {
  "colab": {
   "provenance": []
  },
  "kernelspec": {
   "display_name": "Python 3 (ipykernel)",
   "language": "python",
   "name": "python3"
  },
  "language_info": {
   "codemirror_mode": {
    "name": "ipython",
    "version": 3
   },
   "file_extension": ".py",
   "mimetype": "text/x-python",
   "name": "python",
   "nbconvert_exporter": "python",
   "pygments_lexer": "ipython3",
   "version": "3.9.13"
  }
 },
 "nbformat": 4,
 "nbformat_minor": 1
}
